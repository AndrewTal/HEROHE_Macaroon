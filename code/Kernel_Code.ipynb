{
 "cells": [
  {
   "cell_type": "code",
   "execution_count": null,
   "id": "bada3f00",
   "metadata": {},
   "outputs": [],
   "source": [
    "import os\n",
    "import glob\n",
    "import numpy as np\n",
    "import pandas as pd\n",
    "import seaborn as sns\n",
    "\n",
    "from openslide import OpenSlide\n",
    "from sklearn.utils import shuffle\n",
    "from sklearn.metrics import confusion_matrix\n",
    "\n",
    "import fastai\n",
    "from fastai.vision.all import *"
   ]
  },
  {
   "cell_type": "code",
   "execution_count": null,
   "id": "a7914155",
   "metadata": {},
   "outputs": [],
   "source": [
    "def load_image(fn, mode=None):\n",
    "    \"Open and load a `PIL.Image` and convert to `mode`\"\n",
    "    slide_path, h, w, level, ps = fn.split('&')\n",
    "    h = int(h); w = int(w)\n",
    "    level = int(level); ps = int(ps)\n",
    "    \n",
    "    with OpenSlide(slide_path) as slide:\n",
    "        im = slide.read_region((w, h), level, (ps, ps)).convert('RGB')\n",
    "    \n",
    "    im.load()\n",
    "    im = im._new(im.im)\n",
    "    return im.convert(mode) if mode else im\n",
    "\n",
    "fastai.vision.core.load_image = load_image"
   ]
  },
  {
   "cell_type": "markdown",
   "id": "063189a2",
   "metadata": {},
   "source": [
    "# Utils"
   ]
  },
  {
   "cell_type": "code",
   "execution_count": null,
   "id": "9e597495",
   "metadata": {},
   "outputs": [],
   "source": [
    "# def tissue_mask(slide, level):\n",
    "#     col, row = slide.level_dimensions[level]\n",
    "\n",
    "#     img = np.array(slide.read_region((0, 0), level, (col, row)))\n",
    "#     img = cv2.cvtColor(img, cv2.COLOR_RGBA2RGB)\n",
    "#     img = cv2.cvtColor(img, cv2.COLOR_RGB2HSV)\n",
    "#     img = img[:, :, 1]\n",
    "#     _, tissue_mask = cv2.threshold(\n",
    "#         img,\n",
    "#         0,\n",
    "#         255,\n",
    "#         cv2.THRESH_BINARY + cv2.THRESH_OTSU\n",
    "#     )\n",
    "    \n",
    "#     return tissue_mask"
   ]
  },
  {
   "cell_type": "markdown",
   "id": "7f266237",
   "metadata": {},
   "source": [
    "# Data"
   ]
  },
  {
   "cell_type": "code",
   "execution_count": null,
   "id": "42056aeb",
   "metadata": {},
   "outputs": [],
   "source": [
    "def get_df(csv_list, num=100):\n",
    "    df = []\n",
    "\n",
    "    for item in csv_list:\n",
    "        data = pd.read_csv(item)\n",
    "        pos = shuffle(data[data['label'] == 1])\n",
    "        neg = shuffle(data[data['label'] == 0])\n",
    "        df_sample = pd.concat([pos[:num], neg[:num]])\n",
    "\n",
    "        df += [df_sample]\n",
    "\n",
    "    df = pd.concat(df)\n",
    "    \n",
    "    return df"
   ]
  },
  {
   "cell_type": "code",
   "execution_count": null,
   "id": "9c1d7acc",
   "metadata": {},
   "outputs": [],
   "source": [
    "### csv sample\n",
    "# test.csv\n",
    "# \n",
    "#   img                       label\n",
    "# 0 /path/test.svs&3328&7680&0&256  1\n",
    "# 1 /path/test.svs&3584&7424&0&256  1\n",
    "# 2 /path/test.svs&3584&7680&0&256  0\n",
    "# 3 /path/test.svs&3840&7424&0&256  0\n",
    "# ...\n",
    "#\n",
    "# /path/test.svs&3840&7424&0&256: slide_path&h_start&w_start&read_level&read_patch_size"
   ]
  },
  {
   "cell_type": "code",
   "execution_count": null,
   "id": "42ef4877",
   "metadata": {},
   "outputs": [],
   "source": [
    "train_csv = glob.glob('/your/all/train/csv/*.csv')\n",
    "train_df = get_df(train_csv)\n",
    "train_df['is_valid'] = 0\n",
    "\n",
    "eval_csv = glob.glob('/your/all/eval/csv/*.csv')\n",
    "eval_df = get_df(eval_csv)\n",
    "eval_df['is_valid'] = 1\n",
    "\n",
    "df = pd.concat([train_df, eval_df])"
   ]
  },
  {
   "cell_type": "code",
   "execution_count": null,
   "id": "f8c9573e",
   "metadata": {},
   "outputs": [],
   "source": [
    "path = '/'\n",
    "\n",
    "dls = ImageDataLoaders.from_df(\n",
    "    df, \n",
    "    path,\n",
    "    valid_col='is_valid',\n",
    "    item_tfms=Resize(256),\n",
    "    batch_tfms=aug_transforms(size=256)\n",
    ")"
   ]
  },
  {
   "cell_type": "code",
   "execution_count": null,
   "id": "b0d25305",
   "metadata": {},
   "outputs": [],
   "source": [
    "dls.show_batch()"
   ]
  },
  {
   "cell_type": "markdown",
   "id": "4d120b0b",
   "metadata": {},
   "source": [
    "# Training"
   ]
  },
  {
   "cell_type": "code",
   "execution_count": null,
   "id": "98b56438",
   "metadata": {},
   "outputs": [],
   "source": [
    "learn = vision_learner(\n",
    "    dls, \n",
    "    resnet34,\n",
    "    metrics=[accuracy],\n",
    ")"
   ]
  },
  {
   "cell_type": "code",
   "execution_count": null,
   "id": "6454584d",
   "metadata": {},
   "outputs": [],
   "source": [
    "learn.model_dir = '/your/model/path'"
   ]
  },
  {
   "cell_type": "code",
   "execution_count": null,
   "id": "b45752d1",
   "metadata": {},
   "outputs": [],
   "source": [
    "learn.fine_tune(\n",
    "    12,\n",
    "    base_lr = 3e-4,\n",
    "    cbs=[SaveModelCallback(fname='best')],\n",
    ")"
   ]
  },
  {
   "cell_type": "markdown",
   "id": "346c9e5b",
   "metadata": {},
   "source": [
    "# Evulation"
   ]
  },
  {
   "cell_type": "code",
   "execution_count": null,
   "id": "99a0c4ef",
   "metadata": {},
   "outputs": [],
   "source": [
    "learn.load('best')"
   ]
  },
  {
   "cell_type": "code",
   "execution_count": null,
   "id": "447cf1cc",
   "metadata": {},
   "outputs": [],
   "source": [
    "p, t = learn.get_preds()\n",
    "p = p.numpy()\n",
    "t = t.numpy()\n",
    "p = np.argmax(p, axis=1)"
   ]
  },
  {
   "cell_type": "code",
   "execution_count": null,
   "id": "db0fc40f",
   "metadata": {},
   "outputs": [],
   "source": [
    "confusion_matrix(t, p)"
   ]
  },
  {
   "cell_type": "markdown",
   "id": "e3562a4c",
   "metadata": {},
   "source": [
    "# Testing"
   ]
  },
  {
   "cell_type": "code",
   "execution_count": null,
   "id": "b5e87566",
   "metadata": {},
   "outputs": [],
   "source": [
    "test_df = pd.read_csv('/your/test/csv.csv')\n",
    "test_dl = learn.dls.test_dl(test_df)\n",
    "p, _ = learn.get_preds(dl=test_dl)\n",
    "p = p.numpy()"
   ]
  },
  {
   "cell_type": "code",
   "execution_count": null,
   "id": "1ee943bd",
   "metadata": {},
   "outputs": [],
   "source": [
    "score = p[:, 1]\n",
    "test_df['pred'] = score\n",
    "test_df.to_csv('/your/save/path/pred.csv', index=None)"
   ]
  },
  {
   "cell_type": "markdown",
   "id": "bd5e04bb",
   "metadata": {},
   "source": [
    "# Ensemble"
   ]
  },
  {
   "cell_type": "code",
   "execution_count": null,
   "id": "e7bc5655",
   "metadata": {},
   "outputs": [],
   "source": [
    "def wsi_classification(PM_A, PM_B, threshold=0.5):\n",
    "    \n",
    "    neg_score = np.sum((PM_A > threshold) & (PM_B <= threshold))\n",
    "    pos_score = np.sum((PM_A > threshold) & (PM_B > threshold))\n",
    "    \n",
    "    return 1 if pos_score > neg_score else 0"
   ]
  },
  {
   "cell_type": "code",
   "execution_count": null,
   "id": "f63d50ae",
   "metadata": {},
   "outputs": [],
   "source": [
    "PM_A = np.random.rand(1024, 1024)\n",
    "PM_B = np.random.rand(1024, 1024)"
   ]
  },
  {
   "cell_type": "code",
   "execution_count": null,
   "id": "bb9d27e7",
   "metadata": {},
   "outputs": [],
   "source": [
    "wsi_classification(PM_A, PM_B)"
   ]
  },
  {
   "cell_type": "code",
   "execution_count": null,
   "id": "40f3cff2",
   "metadata": {},
   "outputs": [],
   "source": []
  }
 ],
 "metadata": {
  "kernelspec": {
   "display_name": "Python [conda env:py3.9]",
   "language": "python",
   "name": "conda-env-py3.9-py"
  },
  "language_info": {
   "codemirror_mode": {
    "name": "ipython",
    "version": 3
   },
   "file_extension": ".py",
   "mimetype": "text/x-python",
   "name": "python",
   "nbconvert_exporter": "python",
   "pygments_lexer": "ipython3",
   "version": "3.9.12"
  }
 },
 "nbformat": 4,
 "nbformat_minor": 5
}
